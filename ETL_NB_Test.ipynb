{
 "cells": [
  {
   "cell_type": "markdown",
   "metadata": {},
   "source": [
    "\n",
    "1. EXTRACT the tweets from mongodb\n",
    "-connect to a database\n",
    "-query the data\n",
    "2. TRANSFORM the data\n",
    "-clean the text before?\n",
    "-sentiment analysis\n",
    "3. LOAD the data into postgres\n",
    "-connect to postgres\n",
    "-insert into postgress\n"
   ]
  },
  {
   "cell_type": "code",
   "execution_count": 1,
   "metadata": {},
   "outputs": [
    {
     "name": "stdout",
     "output_type": "stream",
     "text": [
      "Collecting vaderSentiment\n",
      "  Downloading vaderSentiment-3.3.2-py2.py3-none-any.whl (125 kB)\n",
      "Requirement already satisfied: requests in c:\\users\\master\\anaconda3\\lib\\site-packages (from vaderSentiment) (2.27.1)\n",
      "Requirement already satisfied: certifi>=2017.4.17 in c:\\users\\master\\anaconda3\\lib\\site-packages (from requests->vaderSentiment) (2021.10.8)\n",
      "Requirement already satisfied: idna<4,>=2.5 in c:\\users\\master\\anaconda3\\lib\\site-packages (from requests->vaderSentiment) (3.2)\n",
      "Requirement already satisfied: urllib3<1.27,>=1.21.1 in c:\\users\\master\\anaconda3\\lib\\site-packages (from requests->vaderSentiment) (1.26.7)\n",
      "Requirement already satisfied: charset-normalizer~=2.0.0 in c:\\users\\master\\anaconda3\\lib\\site-packages (from requests->vaderSentiment) (2.0.4)\n",
      "Installing collected packages: vaderSentiment\n",
      "Successfully installed vaderSentiment-3.3.2\n",
      "Note: you may need to restart the kernel to use updated packages.\n"
     ]
    }
   ],
   "source": [
    "#pip install vaderSentiment"
   ]
  },
  {
   "cell_type": "code",
   "execution_count": 19,
   "metadata": {},
   "outputs": [
    {
     "name": "stdout",
     "output_type": "stream",
     "text": [
      "Requirement already satisfied: psycopg2 in c:\\users\\master\\anaconda3\\lib\\site-packages (2.9.3)Note: you may need to restart the kernel to use updated packages.\n",
      "\n"
     ]
    }
   ],
   "source": [
    "pip install psycopg2"
   ]
  },
  {
   "cell_type": "code",
   "execution_count": 3,
   "metadata": {},
   "outputs": [],
   "source": [
    "import pymongo\n",
    "import psycopg2\n",
    "from sqlalchemy import create_engine\n",
    "import pandas as pd\n",
    "from pymongo import MongoClient\n",
    "from vaderSentiment.vaderSentiment import SentimentIntensityAnalyzer\n"
   ]
  },
  {
   "cell_type": "markdown",
   "metadata": {},
   "source": [
    "-Create connections to databases (check your mongodb and postgres in python notebooks (or luftdaten))\n",
    "\n",
    "-Establish a connection to the MongoDB server"
   ]
  },
  {
   "cell_type": "code",
   "execution_count": 4,
   "metadata": {},
   "outputs": [],
   "source": [
    "#MONGODB INIT\n",
    "client_mongo = pymongo.MongoClient(host=\"localhost\",port=27018)\n",
    "db = client_mongo.twitter\n",
    "collection=db.tweets"
   ]
  },
  {
   "cell_type": "markdown",
   "metadata": {},
   "source": [
    "- Add postgres credentials"
   ]
  },
  {
   "cell_type": "code",
   "execution_count": 5,
   "metadata": {},
   "outputs": [],
   "source": [
    "import cred"
   ]
  },
  {
   "cell_type": "code",
   "execution_count": 6,
   "metadata": {},
   "outputs": [],
   "source": [
    "HOST = 'localhost'\n",
    "PORT = '5555'\n",
    "USERNAME = cred.USER\n",
    "PASSWORD = cred.PASSWORD#'12345'\n",
    "DB = cred.DATABASE#'sentiment_db'"
   ]
  },
  {
   "cell_type": "markdown",
   "metadata": {},
   "source": [
    "- Establish a connection with Postgres"
   ]
  },
  {
   "cell_type": "code",
   "execution_count": 7,
   "metadata": {},
   "outputs": [],
   "source": [
    "conn_string = f'postgresql://{USERNAME}:{PASSWORD}@{HOST}:{PORT}/{DB}'\n",
    "engine = create_engine(conn_string,echo=False)"
   ]
  },
  {
   "cell_type": "markdown",
   "metadata": {},
   "source": [
    "- Select the database you want to use withing the MongoDB server and query the data"
   ]
  },
  {
   "cell_type": "code",
   "execution_count": 12,
   "metadata": {},
   "outputs": [
    {
     "data": {
      "text/plain": [
       "<sqlalchemy.engine.cursor.LegacyCursorResult at 0x1fd3f1eadc0>"
      ]
     },
     "execution_count": 12,
     "metadata": {},
     "output_type": "execute_result"
    }
   ],
   "source": [
    "insert_query = \"INSERT INTO greeting VALUES ('english' ,'hello!');\"\n",
    "engine.execute(insert_query)"
   ]
  },
  {
   "cell_type": "markdown",
   "metadata": {},
   "source": [
    "- Create the function that calculates polarity_scores and returns compund score"
   ]
  },
  {
   "cell_type": "code",
   "execution_count": 13,
   "metadata": {},
   "outputs": [
    {
     "data": {
      "text/plain": [
       "[('english', 'hello!'), ('english', 'hello!')]"
      ]
     },
     "execution_count": 13,
     "metadata": {},
     "output_type": "execute_result"
    }
   ],
   "source": [
    "engine.execute(\"SELECT * from greeting\").fetchall()"
   ]
  },
  {
   "cell_type": "code",
   "execution_count": 8,
   "metadata": {},
   "outputs": [],
   "source": [
    "df_tweets = pd.DataFrame(list(collection.find()))\n"
   ]
  },
  {
   "cell_type": "code",
   "execution_count": 9,
   "metadata": {},
   "outputs": [
    {
     "name": "stdout",
     "output_type": "stream",
     "text": [
      "<class 'pandas.core.frame.DataFrame'>\n",
      "RangeIndex: 100 entries, 0 to 99\n",
      "Data columns (total 4 columns):\n",
      " #   Column      Non-Null Count  Dtype         \n",
      "---  ------      --------------  -----         \n",
      " 0   _id         100 non-null    object        \n",
      " 1   tweet       100 non-null    object        \n",
      " 2   tweet_id    100 non-null    int64         \n",
      " 3   created_at  100 non-null    datetime64[ns]\n",
      "dtypes: datetime64[ns](1), int64(1), object(2)\n",
      "memory usage: 3.2+ KB\n"
     ]
    }
   ],
   "source": [
    "df_tweets.info()"
   ]
  },
  {
   "cell_type": "code",
   "execution_count": 11,
   "metadata": {},
   "outputs": [],
   "source": [
    "import re"
   ]
  },
  {
   "cell_type": "code",
   "execution_count": 10,
   "metadata": {},
   "outputs": [],
   "source": [
    "mentions_regex= '@[A-Za-z0-9]+'\n",
    "url_regex='https?:\\/\\/\\S+' #this will not catch all possible URLs\n",
    "hashtag_regex= '#'\n",
    "rt_regex= 'RT\\s'\n",
    "\n",
    "def clean_tweets(tweet):\n",
    "    tweet = re.sub(mentions_regex, '', tweet)  #removes @mentions\n",
    "    tweet = re.sub(hashtag_regex, '', tweet) #removes hashtag symbol\n",
    "    tweet = re.sub(rt_regex, '', tweet) #removes RT to announce retweet\n",
    "    tweet = re.sub(url_regex, '', tweet) #removes most URLs\n",
    "    \n",
    "    return tweet"
   ]
  },
  {
   "cell_type": "code",
   "execution_count": 12,
   "metadata": {},
   "outputs": [
    {
     "data": {
      "text/html": [
       "<div>\n",
       "<style scoped>\n",
       "    .dataframe tbody tr th:only-of-type {\n",
       "        vertical-align: middle;\n",
       "    }\n",
       "\n",
       "    .dataframe tbody tr th {\n",
       "        vertical-align: top;\n",
       "    }\n",
       "\n",
       "    .dataframe thead th {\n",
       "        text-align: right;\n",
       "    }\n",
       "</style>\n",
       "<table border=\"1\" class=\"dataframe\">\n",
       "  <thead>\n",
       "    <tr style=\"text-align: right;\">\n",
       "      <th></th>\n",
       "      <th>_id</th>\n",
       "      <th>tweet</th>\n",
       "      <th>tweet_id</th>\n",
       "      <th>created_at</th>\n",
       "    </tr>\n",
       "  </thead>\n",
       "  <tbody>\n",
       "    <tr>\n",
       "      <th>0</th>\n",
       "      <td>62640ad76ae9ff712eaeaaa6</td>\n",
       "      <td>🇺🇸🇺🇦 USA developed special drone for Ukraine, ...</td>\n",
       "      <td>1517870560805593090</td>\n",
       "      <td>2022-04-23 14:18:37</td>\n",
       "    </tr>\n",
       "    <tr>\n",
       "      <th>1</th>\n",
       "      <td>62640ad76ae9ff712eaeaaa7</td>\n",
       "      <td>Why is usa uk  Europe openly waging war with R...</td>\n",
       "      <td>1517870245800820736</td>\n",
       "      <td>2022-04-23 14:17:21</td>\n",
       "    </tr>\n",
       "    <tr>\n",
       "      <th>2</th>\n",
       "      <td>62640ad76ae9ff712eaeaaa8</td>\n",
       "      <td>Support our humanitarian assistance in ukraine...</td>\n",
       "      <td>1517869930217189377</td>\n",
       "      <td>2022-04-23 14:16:06</td>\n",
       "    </tr>\n",
       "    <tr>\n",
       "      <th>3</th>\n",
       "      <td>62640ad76ae9ff712eaeaaa9</td>\n",
       "      <td>Something significant in relation on the Russi...</td>\n",
       "      <td>1517869908775915525</td>\n",
       "      <td>2022-04-23 14:16:01</td>\n",
       "    </tr>\n",
       "    <tr>\n",
       "      <th>4</th>\n",
       "      <td>62640ad76ae9ff712eaeaaaa</td>\n",
       "      <td>🇺🇳🇺🇦 UN sees 'growing evidence' of war crimes ...</td>\n",
       "      <td>1517869831202263042</td>\n",
       "      <td>2022-04-23 14:15:43</td>\n",
       "    </tr>\n",
       "    <tr>\n",
       "      <th>...</th>\n",
       "      <td>...</td>\n",
       "      <td>...</td>\n",
       "      <td>...</td>\n",
       "      <td>...</td>\n",
       "    </tr>\n",
       "    <tr>\n",
       "      <th>95</th>\n",
       "      <td>62640ad86ae9ff712eaeab05</td>\n",
       "      <td>7. The absence of compassion from the Int'l Co...</td>\n",
       "      <td>1517850686788145152</td>\n",
       "      <td>2022-04-23 12:59:38</td>\n",
       "    </tr>\n",
       "    <tr>\n",
       "      <th>96</th>\n",
       "      <td>62640ad86ae9ff712eaeab06</td>\n",
       "      <td>Breaking Exclusive: I've just toured Drobitsky...</td>\n",
       "      <td>1517849985357856768</td>\n",
       "      <td>2022-04-23 12:56:51</td>\n",
       "    </tr>\n",
       "    <tr>\n",
       "      <th>97</th>\n",
       "      <td>62640ad86ae9ff712eaeab07</td>\n",
       "      <td>1/\\nWe continue to publish data on significant...</td>\n",
       "      <td>1517849937882533888</td>\n",
       "      <td>2022-04-23 12:56:40</td>\n",
       "    </tr>\n",
       "    <tr>\n",
       "      <th>98</th>\n",
       "      <td>62640ad86ae9ff712eaeab08</td>\n",
       "      <td>The US is planning to use tactical nuclear wea...</td>\n",
       "      <td>1517849803648303105</td>\n",
       "      <td>2022-04-23 12:56:08</td>\n",
       "    </tr>\n",
       "    <tr>\n",
       "      <th>99</th>\n",
       "      <td>62640ad86ae9ff712eaeab09</td>\n",
       "      <td>When two elephants fight, it is the Ukraine gr...</td>\n",
       "      <td>1517849523359526912</td>\n",
       "      <td>2022-04-23 12:55:01</td>\n",
       "    </tr>\n",
       "  </tbody>\n",
       "</table>\n",
       "<p>100 rows × 4 columns</p>\n",
       "</div>"
      ],
      "text/plain": [
       "                         _id  \\\n",
       "0   62640ad76ae9ff712eaeaaa6   \n",
       "1   62640ad76ae9ff712eaeaaa7   \n",
       "2   62640ad76ae9ff712eaeaaa8   \n",
       "3   62640ad76ae9ff712eaeaaa9   \n",
       "4   62640ad76ae9ff712eaeaaaa   \n",
       "..                       ...   \n",
       "95  62640ad86ae9ff712eaeab05   \n",
       "96  62640ad86ae9ff712eaeab06   \n",
       "97  62640ad86ae9ff712eaeab07   \n",
       "98  62640ad86ae9ff712eaeab08   \n",
       "99  62640ad86ae9ff712eaeab09   \n",
       "\n",
       "                                                tweet             tweet_id  \\\n",
       "0   🇺🇸🇺🇦 USA developed special drone for Ukraine, ...  1517870560805593090   \n",
       "1   Why is usa uk  Europe openly waging war with R...  1517870245800820736   \n",
       "2   Support our humanitarian assistance in ukraine...  1517869930217189377   \n",
       "3   Something significant in relation on the Russi...  1517869908775915525   \n",
       "4   🇺🇳🇺🇦 UN sees 'growing evidence' of war crimes ...  1517869831202263042   \n",
       "..                                                ...                  ...   \n",
       "95  7. The absence of compassion from the Int'l Co...  1517850686788145152   \n",
       "96  Breaking Exclusive: I've just toured Drobitsky...  1517849985357856768   \n",
       "97  1/\\nWe continue to publish data on significant...  1517849937882533888   \n",
       "98  The US is planning to use tactical nuclear wea...  1517849803648303105   \n",
       "99  When two elephants fight, it is the Ukraine gr...  1517849523359526912   \n",
       "\n",
       "            created_at  \n",
       "0  2022-04-23 14:18:37  \n",
       "1  2022-04-23 14:17:21  \n",
       "2  2022-04-23 14:16:06  \n",
       "3  2022-04-23 14:16:01  \n",
       "4  2022-04-23 14:15:43  \n",
       "..                 ...  \n",
       "95 2022-04-23 12:59:38  \n",
       "96 2022-04-23 12:56:51  \n",
       "97 2022-04-23 12:56:40  \n",
       "98 2022-04-23 12:56:08  \n",
       "99 2022-04-23 12:55:01  \n",
       "\n",
       "[100 rows x 4 columns]"
      ]
     },
     "execution_count": 12,
     "metadata": {},
     "output_type": "execute_result"
    }
   ],
   "source": [
    "df_tweets[\"tweet\"] = df_tweets[\"tweet\"].apply(clean_tweets)\n",
    "df_tweets"
   ]
  },
  {
   "cell_type": "code",
   "execution_count": 14,
   "metadata": {},
   "outputs": [],
   "source": [
    "from vaderSentiment.vaderSentiment import SentimentIntensityAnalyzer\n",
    "analyzer = SentimentIntensityAnalyzer()\n"
   ]
  },
  {
   "cell_type": "code",
   "execution_count": 15,
   "metadata": {},
   "outputs": [
    {
     "data": {
      "text/html": [
       "<div>\n",
       "<style scoped>\n",
       "    .dataframe tbody tr th:only-of-type {\n",
       "        vertical-align: middle;\n",
       "    }\n",
       "\n",
       "    .dataframe tbody tr th {\n",
       "        vertical-align: top;\n",
       "    }\n",
       "\n",
       "    .dataframe thead th {\n",
       "        text-align: right;\n",
       "    }\n",
       "</style>\n",
       "<table border=\"1\" class=\"dataframe\">\n",
       "  <thead>\n",
       "    <tr style=\"text-align: right;\">\n",
       "      <th></th>\n",
       "      <th>neg</th>\n",
       "      <th>neu</th>\n",
       "      <th>pos</th>\n",
       "      <th>compound</th>\n",
       "    </tr>\n",
       "  </thead>\n",
       "  <tbody>\n",
       "    <tr>\n",
       "      <th>0</th>\n",
       "      <td>0.084</td>\n",
       "      <td>0.838</td>\n",
       "      <td>0.078</td>\n",
       "      <td>-0.0516</td>\n",
       "    </tr>\n",
       "    <tr>\n",
       "      <th>1</th>\n",
       "      <td>0.211</td>\n",
       "      <td>0.689</td>\n",
       "      <td>0.100</td>\n",
       "      <td>-0.7667</td>\n",
       "    </tr>\n",
       "    <tr>\n",
       "      <th>2</th>\n",
       "      <td>0.000</td>\n",
       "      <td>0.816</td>\n",
       "      <td>0.184</td>\n",
       "      <td>0.4019</td>\n",
       "    </tr>\n",
       "    <tr>\n",
       "      <th>3</th>\n",
       "      <td>0.125</td>\n",
       "      <td>0.840</td>\n",
       "      <td>0.035</td>\n",
       "      <td>-0.5574</td>\n",
       "    </tr>\n",
       "    <tr>\n",
       "      <th>4</th>\n",
       "      <td>0.251</td>\n",
       "      <td>0.700</td>\n",
       "      <td>0.050</td>\n",
       "      <td>-0.8360</td>\n",
       "    </tr>\n",
       "    <tr>\n",
       "      <th>5</th>\n",
       "      <td>0.058</td>\n",
       "      <td>0.850</td>\n",
       "      <td>0.092</td>\n",
       "      <td>0.2500</td>\n",
       "    </tr>\n",
       "    <tr>\n",
       "      <th>6</th>\n",
       "      <td>0.298</td>\n",
       "      <td>0.585</td>\n",
       "      <td>0.117</td>\n",
       "      <td>-0.7579</td>\n",
       "    </tr>\n",
       "    <tr>\n",
       "      <th>7</th>\n",
       "      <td>0.386</td>\n",
       "      <td>0.376</td>\n",
       "      <td>0.238</td>\n",
       "      <td>-0.7845</td>\n",
       "    </tr>\n",
       "    <tr>\n",
       "      <th>8</th>\n",
       "      <td>0.054</td>\n",
       "      <td>0.731</td>\n",
       "      <td>0.216</td>\n",
       "      <td>0.6868</td>\n",
       "    </tr>\n",
       "    <tr>\n",
       "      <th>9</th>\n",
       "      <td>0.000</td>\n",
       "      <td>0.876</td>\n",
       "      <td>0.124</td>\n",
       "      <td>0.6597</td>\n",
       "    </tr>\n",
       "  </tbody>\n",
       "</table>\n",
       "</div>"
      ],
      "text/plain": [
       "     neg    neu    pos  compound\n",
       "0  0.084  0.838  0.078   -0.0516\n",
       "1  0.211  0.689  0.100   -0.7667\n",
       "2  0.000  0.816  0.184    0.4019\n",
       "3  0.125  0.840  0.035   -0.5574\n",
       "4  0.251  0.700  0.050   -0.8360\n",
       "5  0.058  0.850  0.092    0.2500\n",
       "6  0.298  0.585  0.117   -0.7579\n",
       "7  0.386  0.376  0.238   -0.7845\n",
       "8  0.054  0.731  0.216    0.6868\n",
       "9  0.000  0.876  0.124    0.6597"
      ]
     },
     "execution_count": 15,
     "metadata": {},
     "output_type": "execute_result"
    }
   ],
   "source": [
    "# Make dataframe of polarity scores\n",
    "pol_scores = df_tweets['tweet'].apply(analyzer.polarity_scores).apply(pd.Series)\n",
    "pol_scores.head(10)"
   ]
  },
  {
   "cell_type": "code",
   "execution_count": 16,
   "metadata": {},
   "outputs": [],
   "source": [
    "df_tweets['sentiment_score']=pol_scores[\"compound\"]"
   ]
  },
  {
   "cell_type": "code",
   "execution_count": 17,
   "metadata": {},
   "outputs": [
    {
     "data": {
      "text/html": [
       "<div>\n",
       "<style scoped>\n",
       "    .dataframe tbody tr th:only-of-type {\n",
       "        vertical-align: middle;\n",
       "    }\n",
       "\n",
       "    .dataframe tbody tr th {\n",
       "        vertical-align: top;\n",
       "    }\n",
       "\n",
       "    .dataframe thead th {\n",
       "        text-align: right;\n",
       "    }\n",
       "</style>\n",
       "<table border=\"1\" class=\"dataframe\">\n",
       "  <thead>\n",
       "    <tr style=\"text-align: right;\">\n",
       "      <th></th>\n",
       "      <th>_id</th>\n",
       "      <th>tweet</th>\n",
       "      <th>tweet_id</th>\n",
       "      <th>created_at</th>\n",
       "      <th>sentiment_score</th>\n",
       "    </tr>\n",
       "  </thead>\n",
       "  <tbody>\n",
       "    <tr>\n",
       "      <th>0</th>\n",
       "      <td>62640ad76ae9ff712eaeaaa6</td>\n",
       "      <td>🇺🇸🇺🇦 USA developed special drone for Ukraine, ...</td>\n",
       "      <td>1517870560805593090</td>\n",
       "      <td>2022-04-23 14:18:37</td>\n",
       "      <td>-0.0516</td>\n",
       "    </tr>\n",
       "    <tr>\n",
       "      <th>1</th>\n",
       "      <td>62640ad76ae9ff712eaeaaa7</td>\n",
       "      <td>Why is usa uk  Europe openly waging war with R...</td>\n",
       "      <td>1517870245800820736</td>\n",
       "      <td>2022-04-23 14:17:21</td>\n",
       "      <td>-0.7667</td>\n",
       "    </tr>\n",
       "    <tr>\n",
       "      <th>2</th>\n",
       "      <td>62640ad76ae9ff712eaeaaa8</td>\n",
       "      <td>Support our humanitarian assistance in ukraine...</td>\n",
       "      <td>1517869930217189377</td>\n",
       "      <td>2022-04-23 14:16:06</td>\n",
       "      <td>0.4019</td>\n",
       "    </tr>\n",
       "    <tr>\n",
       "      <th>3</th>\n",
       "      <td>62640ad76ae9ff712eaeaaa9</td>\n",
       "      <td>Something significant in relation on the Russi...</td>\n",
       "      <td>1517869908775915525</td>\n",
       "      <td>2022-04-23 14:16:01</td>\n",
       "      <td>-0.5574</td>\n",
       "    </tr>\n",
       "    <tr>\n",
       "      <th>4</th>\n",
       "      <td>62640ad76ae9ff712eaeaaaa</td>\n",
       "      <td>🇺🇳🇺🇦 UN sees 'growing evidence' of war crimes ...</td>\n",
       "      <td>1517869831202263042</td>\n",
       "      <td>2022-04-23 14:15:43</td>\n",
       "      <td>-0.8360</td>\n",
       "    </tr>\n",
       "  </tbody>\n",
       "</table>\n",
       "</div>"
      ],
      "text/plain": [
       "                        _id  \\\n",
       "0  62640ad76ae9ff712eaeaaa6   \n",
       "1  62640ad76ae9ff712eaeaaa7   \n",
       "2  62640ad76ae9ff712eaeaaa8   \n",
       "3  62640ad76ae9ff712eaeaaa9   \n",
       "4  62640ad76ae9ff712eaeaaaa   \n",
       "\n",
       "                                               tweet             tweet_id  \\\n",
       "0  🇺🇸🇺🇦 USA developed special drone for Ukraine, ...  1517870560805593090   \n",
       "1  Why is usa uk  Europe openly waging war with R...  1517870245800820736   \n",
       "2  Support our humanitarian assistance in ukraine...  1517869930217189377   \n",
       "3  Something significant in relation on the Russi...  1517869908775915525   \n",
       "4  🇺🇳🇺🇦 UN sees 'growing evidence' of war crimes ...  1517869831202263042   \n",
       "\n",
       "           created_at  sentiment_score  \n",
       "0 2022-04-23 14:18:37          -0.0516  \n",
       "1 2022-04-23 14:17:21          -0.7667  \n",
       "2 2022-04-23 14:16:06           0.4019  \n",
       "3 2022-04-23 14:16:01          -0.5574  \n",
       "4 2022-04-23 14:15:43          -0.8360  "
      ]
     },
     "execution_count": 17,
     "metadata": {},
     "output_type": "execute_result"
    }
   ],
   "source": [
    "df_tweets.head()"
   ]
  },
  {
   "cell_type": "code",
   "execution_count": 18,
   "metadata": {},
   "outputs": [],
   "source": [
    "df_tweets[\"tweet_id\"]=df_tweets[\"tweet_id\"].values.astype(str)"
   ]
  },
  {
   "cell_type": "code",
   "execution_count": 19,
   "metadata": {},
   "outputs": [
    {
     "data": {
      "text/plain": [
       "0     🇺🇸🇺🇦 USA developed special drone for Ukraine, ...\n",
       "1     Why is usa uk  Europe openly waging war with R...\n",
       "2     Support our humanitarian assistance in ukraine...\n",
       "3     Something significant in relation on the Russi...\n",
       "4     🇺🇳🇺🇦 UN sees 'growing evidence' of war crimes ...\n",
       "                            ...                        \n",
       "95    7. The absence of compassion from the Int'l Co...\n",
       "96    Breaking Exclusive: I've just toured Drobitsky...\n",
       "97    1/\\nWe continue to publish data on significant...\n",
       "98    The US is planning to use tactical nuclear wea...\n",
       "99    When two elephants fight, it is the Ukraine gr...\n",
       "Name: tweet, Length: 100, dtype: object"
      ]
     },
     "execution_count": 19,
     "metadata": {},
     "output_type": "execute_result"
    }
   ],
   "source": [
    "df_tweets.iloc[:,1]"
   ]
  },
  {
   "cell_type": "code",
   "execution_count": 22,
   "metadata": {},
   "outputs": [
    {
     "name": "stdout",
     "output_type": "stream",
     "text": [
      "<class 'pandas.core.frame.DataFrame'>\n",
      "RangeIndex: 100 entries, 0 to 99\n",
      "Data columns (total 4 columns):\n",
      " #   Column           Non-Null Count  Dtype         \n",
      "---  ------           --------------  -----         \n",
      " 0   tweet            100 non-null    object        \n",
      " 1   tweet_id         100 non-null    object        \n",
      " 2   created_at       100 non-null    datetime64[ns]\n",
      " 3   sentiment_score  100 non-null    float64       \n",
      "dtypes: datetime64[ns](1), float64(1), object(2)\n",
      "memory usage: 3.2+ KB\n"
     ]
    }
   ],
   "source": [
    "df_tweets.info()"
   ]
  },
  {
   "cell_type": "code",
   "execution_count": 20,
   "metadata": {},
   "outputs": [],
   "source": [
    "del df_tweets[\"_id\"]"
   ]
  },
  {
   "cell_type": "code",
   "execution_count": 21,
   "metadata": {},
   "outputs": [],
   "source": [
    "df_tweets.to_sql('tweets', engine, if_exists='append')"
   ]
  },
  {
   "cell_type": "code",
   "execution_count": 40,
   "metadata": {},
   "outputs": [
    {
     "data": {
      "text/plain": [
       "<sqlalchemy.engine.cursor.LegacyCursorResult at 0x1505e1bcac0>"
      ]
     },
     "execution_count": 40,
     "metadata": {},
     "output_type": "execute_result"
    }
   ],
   "source": [
    "engine.execute('''\n",
    "    CREATE TABLE IF NOT EXISTS demo(\n",
    "    id  VARCHAR(30),\n",
    "    text TEXT,\n",
    "    created_at TIMESTAMP,\n",
    "    sentiment NUMERIC\n",
    ");\n",
    "''')"
   ]
  },
  {
   "cell_type": "code",
   "execution_count": 41,
   "metadata": {},
   "outputs": [
    {
     "name": "stdout",
     "output_type": "stream",
     "text": [
      "2022-04-23 14:18:37\n",
      "2022-04-23 14:17:21\n",
      "2022-04-23 14:16:06\n",
      "2022-04-23 14:16:01\n",
      "2022-04-23 14:15:43\n",
      "2022-04-23 14:15:24\n",
      "2022-04-23 14:14:28\n",
      "2022-04-23 14:12:43\n",
      "2022-04-23 14:12:18\n",
      "2022-04-23 14:12:18\n",
      "2022-04-23 14:11:50\n",
      "2022-04-23 14:11:22\n",
      "2022-04-23 14:11:21\n",
      "2022-04-23 14:10:53\n",
      "2022-04-23 14:10:36\n",
      "2022-04-23 14:10:32\n",
      "2022-04-23 14:10:14\n",
      "2022-04-23 14:09:54\n",
      "2022-04-23 14:08:58\n",
      "2022-04-23 14:08:50\n",
      "2022-04-23 14:08:50\n",
      "2022-04-23 14:07:02\n",
      "2022-04-23 14:06:42\n",
      "2022-04-23 14:06:38\n",
      "2022-04-23 14:06:25\n",
      "2022-04-23 14:05:13\n",
      "2022-04-23 14:04:20\n",
      "2022-04-23 14:04:15\n",
      "2022-04-23 14:01:04\n",
      "2022-04-23 14:00:02\n",
      "2022-04-23 13:59:46\n",
      "2022-04-23 13:58:21\n",
      "2022-04-23 13:58:13\n",
      "2022-04-23 13:57:55\n",
      "2022-04-23 13:57:46\n",
      "2022-04-23 13:55:54\n",
      "2022-04-23 13:55:51\n",
      "2022-04-23 13:55:03\n",
      "2022-04-23 13:54:14\n",
      "2022-04-23 13:53:46\n",
      "2022-04-23 13:52:59\n",
      "2022-04-23 13:52:36\n",
      "2022-04-23 13:51:28\n",
      "2022-04-23 13:49:31\n",
      "2022-04-23 13:46:21\n",
      "2022-04-23 13:46:17\n",
      "2022-04-23 13:45:38\n",
      "2022-04-23 13:45:33\n",
      "2022-04-23 13:44:28\n",
      "2022-04-23 13:42:57\n",
      "2022-04-23 13:42:33\n",
      "2022-04-23 13:40:50\n",
      "2022-04-23 13:39:51\n",
      "2022-04-23 13:39:47\n",
      "2022-04-23 13:39:35\n",
      "2022-04-23 13:38:10\n",
      "2022-04-23 13:37:39\n",
      "2022-04-23 13:35:45\n",
      "2022-04-23 13:34:52\n",
      "2022-04-23 13:32:41\n",
      "2022-04-23 13:32:35\n",
      "2022-04-23 13:31:05\n",
      "2022-04-23 13:30:36\n",
      "2022-04-23 13:29:14\n",
      "2022-04-23 13:28:43\n",
      "2022-04-23 13:28:28\n",
      "2022-04-23 13:27:48\n",
      "2022-04-23 13:27:41\n",
      "2022-04-23 13:27:32\n",
      "2022-04-23 13:24:09\n",
      "2022-04-23 13:23:33\n",
      "2022-04-23 13:22:48\n",
      "2022-04-23 13:22:08\n",
      "2022-04-23 13:21:46\n",
      "2022-04-23 13:20:40\n",
      "2022-04-23 13:20:29\n",
      "2022-04-23 13:19:35\n",
      "2022-04-23 13:18:35\n",
      "2022-04-23 13:18:34\n",
      "2022-04-23 13:16:59\n",
      "2022-04-23 13:16:44\n",
      "2022-04-23 13:14:57\n",
      "2022-04-23 13:13:24\n",
      "2022-04-23 13:13:24\n",
      "2022-04-23 13:10:31\n",
      "2022-04-23 13:09:59\n",
      "2022-04-23 13:08:06\n",
      "2022-04-23 13:07:44\n",
      "2022-04-23 13:07:41\n",
      "2022-04-23 13:06:27\n",
      "2022-04-23 13:04:20\n",
      "2022-04-23 13:03:08\n",
      "2022-04-23 13:01:04\n",
      "2022-04-23 12:59:57\n",
      "2022-04-23 12:59:48\n",
      "2022-04-23 12:59:38\n",
      "2022-04-23 12:56:51\n",
      "2022-04-23 12:56:40\n",
      "2022-04-23 12:56:08\n",
      "2022-04-23 12:55:01\n"
     ]
    }
   ],
   "source": [
    "docs = collection.find()\n",
    "for current in docs:\n",
    "    print(current[\"created_at\"])"
   ]
  },
  {
   "cell_type": "code",
   "execution_count": 39,
   "metadata": {},
   "outputs": [],
   "source": [
    "docs = collection.find()\n",
    "for current in docs:\n",
    "    tweet_text = current['tweet']\n",
    "    c_tweet_text=clean_tweets(tweet_text)\n",
    "    tweet_id=current[\"tweet_id\"]\n",
    "    tweet_created_at=current[\"created_at\"]\n",
    "    sentiment = analyzer.polarity_scores(c_tweet_text)  # assuming your JSON docs have a text field\n",
    "    score = sentiment['compound']\n",
    "    query = \"INSERT INTO demo VALUES (%s, %s, %s, %s);\"\n",
    "    engine.execute(query, (tweet_id,c_tweet_text,tweet_created_at,score))"
   ]
  }
 ],
 "metadata": {
  "interpreter": {
   "hash": "688a0ad8cae2e7e1d36c3237f8c040063783e999e4874bfccd637fde6837675c"
  },
  "kernelspec": {
   "display_name": "Python 3.9.7 ('base')",
   "language": "python",
   "name": "python3"
  },
  "language_info": {
   "codemirror_mode": {
    "name": "ipython",
    "version": 3
   },
   "file_extension": ".py",
   "mimetype": "text/x-python",
   "name": "python",
   "nbconvert_exporter": "python",
   "pygments_lexer": "ipython3",
   "version": "3.9.7"
  },
  "orig_nbformat": 4
 },
 "nbformat": 4,
 "nbformat_minor": 2
}
