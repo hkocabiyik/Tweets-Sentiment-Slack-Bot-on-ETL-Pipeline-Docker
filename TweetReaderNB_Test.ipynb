{
 "cells": [
  {
   "cell_type": "code",
   "execution_count": 7,
   "metadata": {},
   "outputs": [],
   "source": [
    "import tweepy\n",
    "import twitter_keys\n"
   ]
  },
  {
   "cell_type": "code",
   "execution_count": 8,
   "metadata": {},
   "outputs": [],
   "source": [
    "bearer_token=twitter_keys.Bearer_Token"
   ]
  },
  {
   "cell_type": "markdown",
   "metadata": {},
   "source": [
    "### Connect to twitter API"
   ]
  },
  {
   "cell_type": "code",
   "execution_count": 9,
   "metadata": {},
   "outputs": [],
   "source": [
    "client = tweepy.Client(bearer_token=twitter_keys.Bearer_Token)"
   ]
  },
  {
   "cell_type": "markdown",
   "metadata": {},
   "source": [
    "#### Search recent tweets"
   ]
  },
  {
   "cell_type": "code",
   "execution_count": 19,
   "metadata": {},
   "outputs": [],
   "source": [
    "import tweepy\n",
    "import twitter_keys\n",
    "import pymongo\n",
    "client = tweepy.Client(bearer_token=twitter_keys.Bearer_Token)\n",
    "client_docker = pymongo.MongoClient(host=\"localhost\",port=27017)\n",
    "db = client_docker.twitter"
   ]
  },
  {
   "cell_type": "code",
   "execution_count": 20,
   "metadata": {},
   "outputs": [],
   "source": [
    "search_query = \"#Ukraine lang:en -is:retweet -is:reply -is:quote -has:links\"\n",
    "search_tweets = client.search_recent_tweets(query=search_query,tweet_fields=['id','created_at','text'], max_results=100)\n",
    "for tweet in search_tweets.data:\n",
    "    #logging.critical(f'\\n\\n\\nINCOMING TWEET:\\n{tweet.text}\\n\\n\\n')\n",
    "     # create a json record and inserting it in the collections called tweets\n",
    "    record = {'text': tweet.text, 'id': tweet.id, 'created_at': tweet.created_at}\n",
    "    # and inserting it in the collections called tweets\n",
    "    #logging.critical(f\"\\n---- INSERTING A NEW tweet DOCUMENT INTO THE 'tweets' ----\\n\")\n",
    "    db.tweets.insert_one(document=record)\n",
    "    #if db.tweets.find_one(record):\n",
    "        #logging.critical(f\"\\n---- tweet DOCUMENT SUCCESSFULLY INSERTED ----\\n\")\n",
    "#for tweet in cursor:\n",
    "    #db.tweets.insert_one(dict(tweet.text))\n",
    "#for document in db.tweets.find():\n",
    "    #print(document,end='\\n\\n')"
   ]
  }
 ],
 "metadata": {
  "interpreter": {
   "hash": "688a0ad8cae2e7e1d36c3237f8c040063783e999e4874bfccd637fde6837675c"
  },
  "kernelspec": {
   "display_name": "Python 3.9.7 ('base')",
   "language": "python",
   "name": "python3"
  },
  "language_info": {
   "codemirror_mode": {
    "name": "ipython",
    "version": 3
   },
   "file_extension": ".py",
   "mimetype": "text/x-python",
   "name": "python",
   "nbconvert_exporter": "python",
   "pygments_lexer": "ipython3",
   "version": "3.9.7"
  },
  "orig_nbformat": 4
 },
 "nbformat": 4,
 "nbformat_minor": 2
}
